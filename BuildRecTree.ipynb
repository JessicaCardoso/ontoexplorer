{
 "cells": [
  {
   "cell_type": "code",
   "execution_count": 1,
   "metadata": {},
   "outputs": [],
   "source": [
    "from copy import deepcopy\n",
    "import pickle\n",
    "import os\n",
    "import sys\n",
    "\n",
    "from SPARQLWrapper import SPARQLWrapper, JSON\n",
    "from ontotrees import OntologyTrees\n",
    "\n",
    "from dotenv import load_dotenv\n",
    "\n",
    "load_dotenv()\n",
    "\n",
    "\n",
    "ignore_properties = [\n",
    "    \"http://dbpedia.org/ontology/birthName\",\n",
    "    \"http://www.movieontology.org/2009/11/09/movieontology.owl#companyName\",\n",
    "    \"http://www.movieontology.org/2009/10/01/movieontology.owl#title\"\n",
    "]"
   ]
  },
  {
   "cell_type": "markdown",
   "metadata": {},
   "source": [
    "### Filtrar nós inválidos\n",
    "Funções para remover nós de propriedades que não retornem resultados na Ontologia\n",
    "\n",
    "Para realizar essa operação é necessária a criação de um arquivo .env com as crendenciais:\n",
    "\n",
    "- Credenciais do _endpoint SPARQL_ em um arquivo _.env_, contendo:\n",
    "    - **DB_ENDPOINT**: Endreço do endpoint SPARQL\n",
    "    - **LOGIN**: Usuário de acesso ao banco de triplas\n",
    "    - **PASSWORD**: Senha de acesso ao banco de triplas"
   ]
  },
  {
   "cell_type": "code",
   "execution_count": 2,
   "metadata": {},
   "outputs": [],
   "source": [
    "def check_property(sparql_wrapper, prop_uri):\n",
    "    if prop_uri in ignore_properties:\n",
    "        return False\n",
    "    sparql_query = f\"\"\"\n",
    "    PREFIX owl: <http://www.w3.org/2002/07/owl#>\n",
    "    PREFIX rdfs: <http://www.w3.org/2000/01/rdf-schema#>\n",
    "    ASK\n",
    "    WHERE {{\n",
    "    ?a <{prop_uri}> ?b.\n",
    "    }}\n",
    "    \"\"\"\n",
    "    sparql_wrapper.setQuery(sparql_query)\n",
    "    sparql_wrapper.setReturnFormat(JSON)\n",
    "    results = sparql_wrapper.query().convert()\n",
    "    return results[\"boolean\"]\n",
    "\n",
    "\n",
    "def get_valid_node(sparql_wrapper, key, tree):\n",
    "    if tree[key].is_leaf:\n",
    "        if check_property(sparql_wrapper, tree[key].data):\n",
    "            return tree[key]\n",
    "        else:\n",
    "            return None\n",
    "    else:\n",
    "        node = deepcopy(tree[key])\n",
    "        node.children = []\n",
    "        for child_key in tree[key].children:\n",
    "            child = get_valid_node(sparql_wrapper, child_key, tree)\n",
    "            if child:\n",
    "                node.add_child(child.data)\n",
    "\n",
    "        if node.children:\n",
    "            return node\n",
    "        else:\n",
    "            return None\n",
    "\n",
    "\n",
    "def adjust_properties_tree(sparql_wrapper, properties):\n",
    "    filtered_tree = dict()\n",
    "    for key, _ in properties.items():\n",
    "        valid_node = get_valid_node(sparql_wrapper, key, properties)\n",
    "        if valid_node:\n",
    "            filtered_tree[key] = valid_node\n",
    "    return filtered_tree\n",
    "\n",
    "\n",
    "def remove_nodes_without_results(ontology_tree, filename=\"ontology_trees.pkl\"):\n",
    "    sparql_wrapper = SPARQLWrapper(os.getenv(\"DB_ENDPOINT\"))\n",
    "    sparql_wrapper.setCredentials(os.getenv(\"LOGIN\"), os.getenv(\"PASSWORD\"))\n",
    "\n",
    "    object_prop_tree = adjust_properties_tree(\n",
    "        sparql_wrapper, ontology_tree.get_tree(\"object_properties\")\n",
    "    )\n",
    "    data_prop_tree = adjust_properties_tree(\n",
    "        sparql_wrapper, ontology_tree.get_tree(\"data_properties\")\n",
    "    )\n",
    "\n",
    "    ontology_tree.replace_tree(\"object_properties\", object_prop_tree)\n",
    "    ontology_tree.replace_tree(\"data_properties\", data_prop_tree)\n",
    "\n",
    "    with open(filename, \"wb\") as output:\n",
    "        print(f\"Saving as {filename}\")\n",
    "        pickle.dump(ontology_tree, output, pickle.HIGHEST_PROTOCOL)"
   ]
  },
  {
   "cell_type": "code",
   "execution_count": 3,
   "metadata": {},
   "outputs": [
    {
     "name": "stdout",
     "output_type": "stream",
     "text": [
      "['classes', 'object_properties', 'data_properties']\n",
      "6\n",
      "3\n",
      "2\n"
     ]
    }
   ],
   "source": [
    "# Carregar arquivo de ontologia como uma OntologyTrees\n",
    "onto_trees = OntologyTrees(lang=\"pt-br\")\n",
    "onto_trees.load_ontology(\"movieontology.ttl\", format=\"ttl\")\n",
    "\n",
    "# Nome das árvores geradas\n",
    "print(onto_trees.trees_names)\n",
    "\n",
    "# Profundidade máxima de cada árvore\n",
    "for tree_name in onto_trees.trees_names:\n",
    "    print(onto_trees.get_max_depth(tree_name, onto_trees.get_root(tree_name)))"
   ]
  },
  {
   "cell_type": "code",
   "execution_count": 4,
   "metadata": {},
   "outputs": [
    {
     "name": "stdout",
     "output_type": "stream",
     "text": [
      "Saving as ontology_trees.pkl\n"
     ]
    }
   ],
   "source": [
    "remove_nodes_without_results(onto_trees, \"ontology_trees.pkl\")"
   ]
  }
 ],
 "metadata": {
  "kernelspec": {
   "display_name": "Python 3",
   "language": "python",
   "name": "python3"
  },
  "language_info": {
   "codemirror_mode": {
    "name": "ipython",
    "version": 3
   },
   "file_extension": ".py",
   "mimetype": "text/x-python",
   "name": "python",
   "nbconvert_exporter": "python",
   "pygments_lexer": "ipython3",
   "version": "3.6.10"
  }
 },
 "nbformat": 4,
 "nbformat_minor": 4
}
